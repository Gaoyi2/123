{
 "cells": [
  {
   "cell_type": "markdown",
   "id": "a551ae80-308d-4cee-9c5f-226e5b5486c9",
   "metadata": {},
   "source": [
    "这段代码的作用是使用深度学习模型 VGG16 提取图像的多个可能的语义描述，并使用预训练的自然语言处理模型（DistilBERT）对这些语义描述进行情感分类。\n",
    "\n",
    "具体步骤如下：\n",
    "\n",
    "1. 加载 VGG16 模型和预训练权重。VGG16 是一个用于图像分类的经典卷积神经网络模型。\n",
    "\n",
    "2. 加载 DistilBERT 情感分类模型和对应的 tokenizer。这个模型在 SST-2 数据集上进行了微调，用于进行情感分类。\n",
    "\n",
    "3. 定义一个函数 `extract_semantic_description()`，该函数接受一个图像文件路径作为输入，使用 VGG16 模型对图像进行预测，提取前几个最可能的类别作为图像的语义描述，并返回这些描述。\n",
    "\n",
    "4. 指定要处理的图像文件路径，调用 `extract_semantic_description()` 函数获取图像的多个语义描述。\n",
    "\n",
    "5. 将获取的多个语义描述组合成一个句子，前面加上 \"A picture of \"，以便进行情感分类。\n",
    "\n",
    "6. 使用情感分析管道对组合的语义描述进行情感分类，返回结果。\n",
    "\n",
    "通过将图像的语义信息和情感信息结合在一起，提供了一种从视觉内容到情感倾向的转换方法，可以帮助理解图像的情感含义。"
   ]
  },
  {
   "cell_type": "code",
   "execution_count": 39,
   "id": "6d142d36-6fd7-46b3-9420-384d8896097e",
   "metadata": {},
   "outputs": [
    {
     "name": "stdout",
     "output_type": "stream",
     "text": [
      "\u001b[1m1/1\u001b[0m \u001b[32m━━━━━━━━━━━━━━━━━━━━\u001b[0m\u001b[37m\u001b[0m \u001b[1m1s\u001b[0m 505ms/step\n",
      "Top Semantic Descriptions:\n",
      "bath_towel: 0.49837571382522583\n",
      "Egyptian_cat: 0.07177896052598953\n",
      "tabby: 0.04368782788515091\n",
      "Chihuahua: 0.026950838044285774\n",
      "Boston_bull: 0.020928602665662766\n"
     ]
    }
   ],
   "source": [
    "from keras.applications.vgg16 import VGG16, preprocess_input, decode_predictions\n",
    "from keras.preprocessing import image\n",
    "import numpy as np\n",
    "\n",
    "# 加载 VGG16 模型（包括顶层）\n",
    "# 指定本地权重文件路径\n",
    "weights_path = 'vgg16_weights_tf_dim_ordering_tf_kernels.h5'\n",
    "\n",
    "# 加载预训练的 VGG16 模型\n",
    "model = VGG16(weights=weights_path, include_top=True)\n",
    "\n",
    "# 加载图像并提取前几个最可能的类别及其概率作为语义描述\n",
    "def extract_semantic_description(img_path, top_k=5):\n",
    "    img = image.load_img(img_path, target_size=(224, 224))\n",
    "    x = image.img_to_array(img)\n",
    "    x = np.expand_dims(x, axis=0)\n",
    "    x = preprocess_input(x)\n",
    "    predictions = model.predict(x)\n",
    "    # 获取前几个最可能的类别及其概率\n",
    "    predicted_classes = decode_predictions(predictions, top=top_k)[0]\n",
    "    semantic_descriptions = [(class_name, class_probability) for (_, class_name, class_probability) in predicted_classes]\n",
    "    return semantic_descriptions\n",
    "\n",
    "# 图像文件路径\n",
    "img_path = 'cat.jpg'\n",
    "\n",
    "# 提取前几个最可能的类别及其概率语义\n",
    "semantic_descriptions = extract_semantic_description(img_path)\n",
    "print(\"Top Semantic Descriptions:\")\n",
    "for class_name, class_probability in semantic_descriptions:\n",
    "    print(f\"{class_name}: {class_probability}\")\n"
   ]
  },
  {
   "cell_type": "code",
   "execution_count": 37,
   "id": "16d271b2-f8b7-4338-b888-35dc227b7da5",
   "metadata": {},
   "outputs": [
    {
     "name": "stderr",
     "output_type": "stream",
     "text": [
      "All PyTorch model weights were used when initializing TFDistilBertForSequenceClassification.\n",
      "\n",
      "All the weights of TFDistilBertForSequenceClassification were initialized from the PyTorch model.\n",
      "If your task is similar to the task the model of the checkpoint was trained on, you can already use TFDistilBertForSequenceClassification for predictions without further training.\n"
     ]
    },
    {
     "name": "stdout",
     "output_type": "stream",
     "text": [
      "Sentiment: positive\n"
     ]
    }
   ],
   "source": [
    "import tensorflow as tf\n",
    "from transformers import TFAutoModelForSequenceClassification, AutoTokenizer\n",
    "\n",
    "# 模型和tokenizer的名称或路径\n",
    "model_name_or_path = './model/distilbert-base-uncased-finetuned-sst-2-english'\n",
    "\n",
    "# 加载 tokenizer\n",
    "tokenizer = AutoTokenizer.from_pretrained(model_name_or_path)\n",
    "\n",
    "# 加载 TensorFlow 版本的情感分类模型\n",
    "model = TFAutoModelForSequenceClassification.from_pretrained(model_name_or_path)\n",
    "\n",
    "# 预处理文本\n",
    "text = \"I love this product!\"\n",
    "inputs = tokenizer(text, return_tensors=\"tf\", padding=True, truncation=True)\n",
    "\n",
    "# 使用模型进行预测\n",
    "outputs = model(inputs)\n",
    "\n",
    "# 获取预测结果\n",
    "predictions = tf.nn.softmax(outputs.logits, axis=-1)\n",
    "\n",
    "# 将结果转换为情感标签\n",
    "sentiment_label = \"positive\" if predictions[0][1] > predictions[0][0] else \"negative\"\n",
    "\n",
    "# 打印情感分类结果\n",
    "print(\"Sentiment:\", sentiment_label)\n"
   ]
  },
  {
   "cell_type": "code",
   "execution_count": 36,
   "id": "4481fb89-2d02-4a41-9f08-8e483a2a31e1",
   "metadata": {},
   "outputs": [
    {
     "name": "stderr",
     "output_type": "stream",
     "text": [
      "All PyTorch model weights were used when initializing TFDistilBertForSequenceClassification.\n",
      "\n",
      "All the weights of TFDistilBertForSequenceClassification were initialized from the PyTorch model.\n",
      "If your task is similar to the task the model of the checkpoint was trained on, you can already use TFDistilBertForSequenceClassification for predictions without further training.\n"
     ]
    },
    {
     "name": "stdout",
     "output_type": "stream",
     "text": [
      "\u001b[1m1/1\u001b[0m \u001b[32m━━━━━━━━━━━━━━━━━━━━\u001b[0m\u001b[37m\u001b[0m \u001b[1m0s\u001b[0m 470ms/step\n",
      "Semantic Description: bath_towel\n",
      "Sentiment Analysis Result: [{'label': 'POSITIVE', 'score': 0.6200490593910217}]\n"
     ]
    }
   ],
   "source": [
    "from keras.applications.vgg16 import VGG16, preprocess_input, decode_predictions\n",
    "from keras.preprocessing import image\n",
    "import numpy as np\n",
    "from transformers import pipeline, AutoTokenizer, TFAutoModelForSequenceClassification\n",
    "\n",
    "# 加载 VGG16 模型（包括顶层）\n",
    "# 指定本地权重文件路径\n",
    "weights_path = 'vgg16_weights_tf_dim_ordering_tf_kernels.h5'\n",
    "\n",
    "# 加载预训练的 VGG16 模型\n",
    "model = VGG16(weights=weights_path, include_top=True)\n",
    "\n",
    "\n",
    "# 指定本地模型目录路径\n",
    "model_name_or_path = './model/distilbert-base-uncased-finetuned-sst-2-english'\n",
    "# 加载 tokenizer\n",
    "tokenizer = AutoTokenizer.from_pretrained(model_name_or_path)\n",
    "# 加载 TensorFlow 版本的情感分类模型\n",
    "model_distilbert = TFAutoModelForSequenceClassification.from_pretrained(model_name_or_path)\n",
    "# 创建情感分析管道\n",
    "sentiment_analysis = pipeline(\"sentiment-analysis\", model=model_distilbert, tokenizer=tokenizer)\n",
    "\n",
    "\n",
    "# 加载图像并提取最可能的类别作为语义描述\n",
    "def extract_semantic_description(img_path):\n",
    "    img = image.load_img(img_path, target_size=(224, 224))\n",
    "    x = image.img_to_array(img)\n",
    "    x = np.expand_dims(x, axis=0)\n",
    "    x = preprocess_input(x)\n",
    "    predictions = model.predict(x)\n",
    "    # 获取最可能的类别索引\n",
    "    predicted_class_index = np.argmax(predictions[0])\n",
    "    # 获取类别名称\n",
    "    predicted_class = decode_predictions(predictions, top=1)[0][0]\n",
    "    return predicted_class[1]\n",
    "\n",
    "# 图像文件路径\n",
    "img_path = 'cat.jpg'\n",
    "\n",
    "# 提取语义描述\n",
    "semantic_description = extract_semantic_description(img_path)\n",
    "print(f\"Semantic Description: {semantic_description}\")\n",
    "\n",
    "# 对语义描述进行情感分类\n",
    "sentiment_result = sentiment_analysis(f\"A picture of a {semantic_description}\")\n",
    "print(\"Sentiment Analysis Result:\", sentiment_result)\n"
   ]
  },
  {
   "cell_type": "markdown",
   "id": "a4e8bd3b-0161-404f-b576-40ba3dc6c7f1",
   "metadata": {},
   "source": [
    "提取图片的多个语义，将多个语义情感分类"
   ]
  },
  {
   "cell_type": "code",
   "execution_count": 40,
   "id": "6d83f90f-1267-47a8-93c3-75ad05c0be7f",
   "metadata": {},
   "outputs": [
    {
     "name": "stderr",
     "output_type": "stream",
     "text": [
      "All PyTorch model weights were used when initializing TFDistilBertForSequenceClassification.\n",
      "\n",
      "All the weights of TFDistilBertForSequenceClassification were initialized from the PyTorch model.\n",
      "If your task is similar to the task the model of the checkpoint was trained on, you can already use TFDistilBertForSequenceClassification for predictions without further training.\n"
     ]
    },
    {
     "name": "stdout",
     "output_type": "stream",
     "text": [
      "\u001b[1m1/1\u001b[0m \u001b[32m━━━━━━━━━━━━━━━━━━━━\u001b[0m\u001b[37m\u001b[0m \u001b[1m0s\u001b[0m 396ms/step\n",
      "Semantic Descriptions: ['bath_towel', 'Egyptian_cat', 'tabby', 'Chihuahua', 'Boston_bull']\n",
      "Semantic Description - Sentiment Analysis Result:\n",
      "bath_towel: [{'label': 'POSITIVE', 'score': 0.6200490593910217}]\n",
      "Egyptian_cat: [{'label': 'POSITIVE', 'score': 0.993221640586853}]\n",
      "tabby: [{'label': 'POSITIVE', 'score': 0.9991317391395569}]\n",
      "Chihuahua: [{'label': 'POSITIVE', 'score': 0.9968589544296265}]\n",
      "Boston_bull: [{'label': 'POSITIVE', 'score': 0.9845955967903137}]\n"
     ]
    }
   ],
   "source": [
    "from keras.applications.vgg16 import VGG16, preprocess_input, decode_predictions\n",
    "from keras.preprocessing import image\n",
    "import numpy as np\n",
    "from transformers import pipeline, AutoTokenizer, TFAutoModelForSequenceClassification\n",
    "\n",
    "# 加载 VGG16 模型（包括顶层）\n",
    "# 指定本地权重文件路径\n",
    "weights_path = 'vgg16_weights_tf_dim_ordering_tf_kernels.h5'\n",
    "\n",
    "# 加载预训练的 VGG16 模型\n",
    "model = VGG16(weights=weights_path, include_top=True)\n",
    "\n",
    "# 指定本地模型目录路径\n",
    "model_name_or_path = './model/distilbert-base-uncased-finetuned-sst-2-english'\n",
    "# 加载 tokenizer\n",
    "tokenizer = AutoTokenizer.from_pretrained(model_name_or_path)\n",
    "# 加载 TensorFlow 版本的情感分类模型\n",
    "model_distilbert = TFAutoModelForSequenceClassification.from_pretrained(model_name_or_path)\n",
    "# 创建情感分析管道\n",
    "sentiment_analysis = pipeline(\"sentiment-analysis\", model=model_distilbert, tokenizer=tokenizer)\n",
    "\n",
    "# 加载图像并提取前几个最可能的类别及其概率作为语义描述\n",
    "def extract_semantic_description(img_path, top_k=5):\n",
    "    img = image.load_img(img_path, target_size=(224, 224))\n",
    "    x = image.img_to_array(img)\n",
    "    x = np.expand_dims(x, axis=0)\n",
    "    x = preprocess_input(x)\n",
    "    predictions = model.predict(x)\n",
    "    # 获取前几个最可能的类别及其概率\n",
    "    predicted_classes = decode_predictions(predictions, top=top_k)[0]\n",
    "    semantic_descriptions = [class_name for (_, class_name, _) in predicted_classes]\n",
    "    return semantic_descriptions\n",
    "\n",
    "# 图像文件路径\n",
    "img_path = 'cat.jpg'\n",
    "\n",
    "# 提取多个语义描述\n",
    "semantic_descriptions = extract_semantic_description(img_path)\n",
    "print(\"Semantic Descriptions:\", semantic_descriptions)\n",
    "\n",
    "# 对每个语义描述进行情感分类\n",
    "sentiment_results = []\n",
    "for semantic_description in semantic_descriptions:\n",
    "    # 对语义描述进行情感分类\n",
    "    sentiment_result = sentiment_analysis(f\"A picture of a {semantic_description}\")\n",
    "    sentiment_results.append(sentiment_result)\n",
    "\n",
    "# 打印每个语义描述的情感分类结果\n",
    "print(\"Semantic Description - Sentiment Analysis Result:\")\n",
    "for semantic_description, sentiment_result in zip(semantic_descriptions, sentiment_results):\n",
    "    print(f\"{semantic_description}: {sentiment_result}\")\n"
   ]
  },
  {
   "cell_type": "markdown",
   "id": "f90ecc72-20b0-4c10-a1bd-bf6053e02235",
   "metadata": {},
   "source": [
    "将图片的多个语义组成一个句子，对句子情感分类"
   ]
  },
  {
   "cell_type": "code",
   "execution_count": 41,
   "id": "26d206b3-cd03-447c-b362-0ec356f67e26",
   "metadata": {},
   "outputs": [
    {
     "name": "stderr",
     "output_type": "stream",
     "text": [
      "All PyTorch model weights were used when initializing TFDistilBertForSequenceClassification.\n",
      "\n",
      "All the weights of TFDistilBertForSequenceClassification were initialized from the PyTorch model.\n",
      "If your task is similar to the task the model of the checkpoint was trained on, you can already use TFDistilBertForSequenceClassification for predictions without further training.\n"
     ]
    },
    {
     "name": "stdout",
     "output_type": "stream",
     "text": [
      "\u001b[1m1/1\u001b[0m \u001b[32m━━━━━━━━━━━━━━━━━━━━\u001b[0m\u001b[37m\u001b[0m \u001b[1m0s\u001b[0m 412ms/step\n",
      "Semantic Descriptions: ['bath_towel', 'Egyptian_cat', 'tabby', 'Chihuahua', 'Boston_bull']\n",
      "Combined Semantic Description - Sentiment Analysis Result: [{'label': 'NEGATIVE', 'score': 0.779617190361023}]\n"
     ]
    }
   ],
   "source": [
    "from keras.applications.vgg16 import VGG16, preprocess_input, decode_predictions\n",
    "from keras.preprocessing import image\n",
    "import numpy as np\n",
    "from transformers import pipeline, AutoTokenizer, TFAutoModelForSequenceClassification\n",
    "\n",
    "# 加载 VGG16 模型（包括顶层）\n",
    "# 指定本地权重文件路径\n",
    "weights_path = 'vgg16_weights_tf_dim_ordering_tf_kernels.h5'\n",
    "\n",
    "# 加载预训练的 VGG16 模型\n",
    "model = VGG16(weights=weights_path, include_top=True)\n",
    "\n",
    "# 指定本地模型目录路径\n",
    "model_name_or_path = './model/distilbert-base-uncased-finetuned-sst-2-english'\n",
    "# 加载 tokenizer\n",
    "tokenizer = AutoTokenizer.from_pretrained(model_name_or_path)\n",
    "# 加载 TensorFlow 版本的情感分类模型\n",
    "model_distilbert = TFAutoModelForSequenceClassification.from_pretrained(model_name_or_path)\n",
    "# 创建情感分析管道\n",
    "sentiment_analysis = pipeline(\"sentiment-analysis\", model=model_distilbert, tokenizer=tokenizer)\n",
    "\n",
    "# 加载图像并提取前几个最可能的类别及其概率作为语义描述\n",
    "def extract_semantic_description(img_path, top_k=5):\n",
    "    img = image.load_img(img_path, target_size=(224, 224))\n",
    "    x = image.img_to_array(img)\n",
    "    x = np.expand_dims(x, axis=0)\n",
    "    x = preprocess_input(x)\n",
    "    predictions = model.predict(x)\n",
    "    # 获取前几个最可能的类别及其概率\n",
    "    predicted_classes = decode_predictions(predictions, top=top_k)[0]\n",
    "    semantic_descriptions = [class_name for (_, class_name, _) in predicted_classes]\n",
    "    return semantic_descriptions\n",
    "\n",
    "# 图像文件路径\n",
    "img_path = 'cat.jpg'\n",
    "\n",
    "# 提取多个语义描述\n",
    "semantic_descriptions = extract_semantic_description(img_path)\n",
    "print(\"Semantic Descriptions:\", semantic_descriptions)\n",
    "\n",
    "# 将多个语义描述组合成一个句子\n",
    "combined_description = \"A picture of \" + \", \".join(semantic_descriptions)\n",
    "\n",
    "# 对组合的语义描述进行情感分类\n",
    "sentiment_result = sentiment_analysis(combined_description)\n",
    "print(\"Combined Semantic Description - Sentiment Analysis Result:\", sentiment_result)\n"
   ]
  },
  {
   "cell_type": "code",
   "execution_count": null,
   "id": "bc0f88b1-575e-468a-bf6e-54103fd0dbba",
   "metadata": {},
   "outputs": [],
   "source": []
  }
 ],
 "metadata": {
  "kernelspec": {
   "display_name": "Python 3 (ipykernel)",
   "language": "python",
   "name": "python3"
  },
  "language_info": {
   "codemirror_mode": {
    "name": "ipython",
    "version": 3
   },
   "file_extension": ".py",
   "mimetype": "text/x-python",
   "name": "python",
   "nbconvert_exporter": "python",
   "pygments_lexer": "ipython3",
   "version": "3.12.2"
  }
 },
 "nbformat": 4,
 "nbformat_minor": 5
}
